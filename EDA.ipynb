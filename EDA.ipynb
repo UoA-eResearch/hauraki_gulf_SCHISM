{
 "cells": [
  {
   "cell_type": "code",
   "execution_count": 2,
   "metadata": {},
   "outputs": [
    {
     "data": {
      "text/plain": [
       "0        ../pvol/outputs/1994/02/schout_1.nc\n",
       "1       ../pvol/outputs/1994/02/schout_10.nc\n",
       "2       ../pvol/outputs/1994/02/schout_11.nc\n",
       "3       ../pvol/outputs/1994/02/schout_12.nc\n",
       "4       ../pvol/outputs/1994/02/schout_13.nc\n",
       "                        ...                 \n",
       "9826     ../pvol/outputs/2020/12/schout_5.nc\n",
       "9827     ../pvol/outputs/2020/12/schout_6.nc\n",
       "9828     ../pvol/outputs/2020/12/schout_7.nc\n",
       "9829     ../pvol/outputs/2020/12/schout_8.nc\n",
       "9830     ../pvol/outputs/2020/12/schout_9.nc\n",
       "Length: 9831, dtype: object"
      ]
     },
     "execution_count": 2,
     "metadata": {},
     "output_type": "execute_result"
    }
   ],
   "source": [
    "import matplotlib.pyplot as plt\n",
    "import numpy.ma as ma\n",
    "import numpy as np\n",
    "import pandas as pd\n",
    "import netCDF4\n",
    "from glob import glob\n",
    "files = pd.Series(sorted(glob(\"../pvol/outputs/**/schout_*.nc\", recursive=True)))\n",
    "files"
   ]
  },
  {
   "cell_type": "code",
   "execution_count": 3,
   "metadata": {},
   "outputs": [
    {
     "data": {
      "text/plain": [
       "<class 'netCDF4._netCDF4.Dataset'>\n",
       "root group (NETCDF4_CLASSIC data model, file format HDF5):\n",
       "    Conventions: CF-1.0, UGRID-1.0\n",
       "    title: SCHISM Model output\n",
       "    institution: SCHISM Model output\n",
       "    source: SCHISM model output version v10\n",
       "    references: http://ccrm.vims.edu/schismweb/\n",
       "    history: created by combine_output11\n",
       "    comment: SCHISM Model output\n",
       "    type: SCHISM Model output\n",
       "    VisIT_plugin: https://schism.water.ca.gov/library/-/document_library/view/3476283\n",
       "    dimensions(sizes): nSCHISM_hgrid_node(126942), nSCHISM_hgrid_face(225109), nSCHISM_hgrid_edge(352104), nMaxSCHISM_hgrid_face_nodes(4), nSCHISM_vgrid_layers(33), one(1), two(2), sigma(33), time(24)\n",
       "    variables(dimensions): float64 time(time), int32 SCHISM_hgrid(one), int32 SCHISM_hgrid_face_nodes(nSCHISM_hgrid_face, nMaxSCHISM_hgrid_face_nodes), int32 SCHISM_hgrid_edge_nodes(nSCHISM_hgrid_edge, two), float64 SCHISM_hgrid_node_x(nSCHISM_hgrid_node), float64 SCHISM_hgrid_node_y(nSCHISM_hgrid_node), int32 node_bottom_index(nSCHISM_hgrid_node), float32 SCHISM_hgrid_face_x(nSCHISM_hgrid_face), float32 SCHISM_hgrid_face_y(nSCHISM_hgrid_face), int32 ele_bottom_index(nSCHISM_hgrid_face), float32 SCHISM_hgrid_edge_x(nSCHISM_hgrid_edge), float32 SCHISM_hgrid_edge_y(nSCHISM_hgrid_edge), int32 edge_bottom_index(nSCHISM_hgrid_edge), float32 depth(nSCHISM_hgrid_node), float32 sigma(sigma), int32 dry_value_flag(one), int32 coordinate_system_flag(one), float32 minimum_depth(one), float32 sigma_h_c(one), float32 sigma_theta_b(one), float32 sigma_theta_f(one), float32 sigma_maxdepth(one), float32 Cs(sigma), float32 wetdry_node(time, nSCHISM_hgrid_node), float32 wetdry_elem(time, nSCHISM_hgrid_face), float32 wetdry_side(time, nSCHISM_hgrid_edge), float32 zcor(time, nSCHISM_hgrid_node, nSCHISM_vgrid_layers), float32 elev(time, nSCHISM_hgrid_node), float32 bottom_stress(time, nSCHISM_hgrid_node, two), float32 wind_speed(time, nSCHISM_hgrid_node, two), float32 wind_stress(time, nSCHISM_hgrid_node, two), float32 dahv(time, nSCHISM_hgrid_node, two), float32 vertical_velocity(time, nSCHISM_hgrid_node, nSCHISM_vgrid_layers), float32 temp(time, nSCHISM_hgrid_node, nSCHISM_vgrid_layers), float32 salt(time, nSCHISM_hgrid_node, nSCHISM_vgrid_layers), float32 diffusivity(time, nSCHISM_hgrid_node, nSCHISM_vgrid_layers), float32 hvel(time, nSCHISM_hgrid_node, nSCHISM_vgrid_layers, two)\n",
       "    groups: "
      ]
     },
     "execution_count": 3,
     "metadata": {},
     "output_type": "execute_result"
    }
   ],
   "source": [
    "nc = netCDF4.Dataset(files[0])\n",
    "nc"
   ]
  },
  {
   "cell_type": "code",
   "execution_count": 39,
   "metadata": {},
   "outputs": [
    {
     "data": {
      "text/plain": [
       "{'time': {'long_name': 'Time',\n",
       "  'units': 'seconds since 1994-02-01 00:00:00 +1200',\n",
       "  'base_date': ' 1994  2  1       0.00     -12.00',\n",
       "  'standard_name': 'time'},\n",
       " 'SCHISM_hgrid': {'long_name': 'Topology data of 2d unstructured mesh',\n",
       "  'topology_dimension': 2,\n",
       "  'cf_role': 'mesh_topology',\n",
       "  'node_coordinates': 'SCHISM_hgrid_node_x SCHISM_hgrid_node_y',\n",
       "  'face_node_connectivity': 'SCHISM_hgrid_face_nodes',\n",
       "  'edge_coordinates': 'SCHISM_hgrid_edge_x SCHISM_hgrid_edge_y',\n",
       "  'face_coordinates': 'SCHISM_hgrid_face_x SCHISM_hgrid_face_y',\n",
       "  'edge_node_connectivity': 'SCHISM_hgrid_edge_nodes'},\n",
       " 'SCHISM_hgrid_face_nodes': {'long_name': 'Horizontal Element Table',\n",
       "  'cf_role': 'face_node_connectivity',\n",
       "  'start_index': 1,\n",
       "  '_FillValue': -99999},\n",
       " 'SCHISM_hgrid_edge_nodes': {'long_name': 'Map every edge to the two nodes that it connects',\n",
       "  'cf_role': 'edge_node_connectivity',\n",
       "  'start_index': 1},\n",
       " 'SCHISM_hgrid_node_x': {'long_name': 'node x-coordinate',\n",
       "  'standard_name': 'longitude',\n",
       "  'units': 'degrees_east',\n",
       "  'mesh': 'SCHISM_hgrid'},\n",
       " 'SCHISM_hgrid_node_y': {'long_name': 'node y-coordinate',\n",
       "  'standard_name': 'latitude',\n",
       "  'units': 'degrees_north',\n",
       "  'mesh': 'SCHISM_hgrid'},\n",
       " 'node_bottom_index': {'long_name': 'bottom level index at each node',\n",
       "  'units': 'non-dimensional',\n",
       "  'mesh': 'SCHISM_hgrid',\n",
       "  'location': 'node',\n",
       "  'start_index': 1},\n",
       " 'SCHISM_hgrid_face_x': {'long_name': 'x_coordinate of 2D mesh face',\n",
       "  'standard_name': 'longitude',\n",
       "  'units': 'degrees_east',\n",
       "  'mesh': 'SCHISM_hgrid'},\n",
       " 'SCHISM_hgrid_face_y': {'long_name': 'y_coordinate of 2D mesh face',\n",
       "  'standard_name': 'latitude',\n",
       "  'units': 'degrees_north',\n",
       "  'mesh': 'SCHISM_hgrid'},\n",
       " 'ele_bottom_index': {'long_name': 'bottom level index at each element',\n",
       "  'units': 'non-dimensional',\n",
       "  'mesh': 'SCHISM_hgrid',\n",
       "  'location': 'elem',\n",
       "  'start_index': 1},\n",
       " 'SCHISM_hgrid_edge_x': {'long_name': 'x_coordinate of 2D mesh edge',\n",
       "  'standard_name': 'longitude',\n",
       "  'units': 'degrees_east',\n",
       "  'mesh': 'SCHISM_hgrid'},\n",
       " 'SCHISM_hgrid_edge_y': {'long_name': 'y_coordinate of 2D mesh edge',\n",
       "  'standard_name': 'latitude',\n",
       "  'units': 'degrees_north',\n",
       "  'mesh': 'SCHISM_hgrid'},\n",
       " 'edge_bottom_index': {'long_name': 'bottom level index at each edge',\n",
       "  'units': 'non-dimensional',\n",
       "  'mesh': 'SCHISM_hgrid',\n",
       "  'location': 'edge',\n",
       "  'start_index': 1},\n",
       " 'depth': {'long_name': 'Bathymetry',\n",
       "  'units': 'meters',\n",
       "  'positive': 'down',\n",
       "  'mesh': 'SCHISM_hgrid',\n",
       "  'location': 'node'},\n",
       " 'sigma': {'long_name': 'S coordinates at whole levels',\n",
       "  'units': '1',\n",
       "  'standard_name': 'ocean_s_coordinate',\n",
       "  'positive': 'up',\n",
       "  'h_s': 0.0,\n",
       "  'h_c': 0.0,\n",
       "  'theta_b': 0.0,\n",
       "  'theta_f': 0.0,\n",
       "  'formula_terms': 's: sigma eta: elev depth: depth a: sigma_theta_f b: sigma_theta_b depth_c: sigma_h_c'},\n",
       " 'dry_value_flag': {'values': '0: use last-wet value; 1: use junk'},\n",
       " 'coordinate_system_flag': {},\n",
       " 'minimum_depth': {},\n",
       " 'sigma_h_c': {'long_name': 'ocean_s_coordinate h_c constant',\n",
       "  'units': 'meters',\n",
       "  'positive': 'down'},\n",
       " 'sigma_theta_b': {'long_name': 'ocean_s_coordinate theta_b constant'},\n",
       " 'sigma_theta_f': {'long_name': 'ocean_s_coordinate theta_f constant'},\n",
       " 'sigma_maxdepth': {'long_name': 'ocean_s_coordinate maximum depth cutoff (mixed s over z boundary)',\n",
       "  'units': 'meters',\n",
       "  'positive': 'down'},\n",
       " 'Cs': {'long_name': 'Function C(s) at whole levels', 'positive': 'up'},\n",
       " 'wetdry_node': {'missing_value': 9.969209968386869e+36,\n",
       "  'mesh': 'SCHISM_hgrid',\n",
       "  'data_horizontal_center': 'node',\n",
       "  'data_vertical_center': 'full',\n",
       "  'i23d': 1,\n",
       "  'ivs': 1},\n",
       " 'wetdry_elem': {'missing_value': 9.969209968386869e+36,\n",
       "  'mesh': 'SCHISM_hgrid',\n",
       "  'data_horizontal_center': 'elem',\n",
       "  'data_vertical_center': 'full',\n",
       "  'i23d': 4,\n",
       "  'ivs': 1},\n",
       " 'wetdry_side': {'missing_value': 9.969209968386869e+36,\n",
       "  'mesh': 'SCHISM_hgrid',\n",
       "  'data_horizontal_center': 'side',\n",
       "  'data_vertical_center': 'full',\n",
       "  'i23d': 7,\n",
       "  'ivs': 1},\n",
       " 'zcor': {'missing_value': 9.969209968386869e+36,\n",
       "  'mesh': 'SCHISM_hgrid',\n",
       "  'data_horizontal_center': 'node',\n",
       "  'data_vertical_center': 'full',\n",
       "  'i23d': 2,\n",
       "  'ivs': 1},\n",
       " 'elev': {'missing_value': 9.969209968386869e+36,\n",
       "  'mesh': 'SCHISM_hgrid',\n",
       "  'data_horizontal_center': 'node',\n",
       "  'data_vertical_center': 'full',\n",
       "  'i23d': 1,\n",
       "  'ivs': 1},\n",
       " 'bottom_stress': {'missing_value': 9.969209968386869e+36,\n",
       "  'mesh': 'SCHISM_hgrid',\n",
       "  'data_horizontal_center': 'node',\n",
       "  'data_vertical_center': 'full',\n",
       "  'i23d': 1,\n",
       "  'ivs': 2},\n",
       " 'wind_speed': {'missing_value': 9.969209968386869e+36,\n",
       "  'mesh': 'SCHISM_hgrid',\n",
       "  'data_horizontal_center': 'node',\n",
       "  'data_vertical_center': 'full',\n",
       "  'i23d': 1,\n",
       "  'ivs': 2},\n",
       " 'wind_stress': {'missing_value': 9.969209968386869e+36,\n",
       "  'mesh': 'SCHISM_hgrid',\n",
       "  'data_horizontal_center': 'node',\n",
       "  'data_vertical_center': 'full',\n",
       "  'i23d': 1,\n",
       "  'ivs': 2},\n",
       " 'dahv': {'missing_value': 9.969209968386869e+36,\n",
       "  'mesh': 'SCHISM_hgrid',\n",
       "  'data_horizontal_center': 'node',\n",
       "  'data_vertical_center': 'full',\n",
       "  'i23d': 1,\n",
       "  'ivs': 2},\n",
       " 'vertical_velocity': {'missing_value': 9.969209968386869e+36,\n",
       "  'mesh': 'SCHISM_hgrid',\n",
       "  'data_horizontal_center': 'node',\n",
       "  'data_vertical_center': 'full',\n",
       "  'i23d': 2,\n",
       "  'ivs': 1},\n",
       " 'temp': {'missing_value': 9.969209968386869e+36,\n",
       "  'mesh': 'SCHISM_hgrid',\n",
       "  'data_horizontal_center': 'node',\n",
       "  'data_vertical_center': 'full',\n",
       "  'i23d': 2,\n",
       "  'ivs': 1},\n",
       " 'salt': {'missing_value': 9.969209968386869e+36,\n",
       "  'mesh': 'SCHISM_hgrid',\n",
       "  'data_horizontal_center': 'node',\n",
       "  'data_vertical_center': 'full',\n",
       "  'i23d': 2,\n",
       "  'ivs': 1},\n",
       " 'diffusivity': {'missing_value': 9.969209968386869e+36,\n",
       "  'mesh': 'SCHISM_hgrid',\n",
       "  'data_horizontal_center': 'node',\n",
       "  'data_vertical_center': 'full',\n",
       "  'i23d': 2,\n",
       "  'ivs': 1},\n",
       " 'hvel': {'missing_value': 9.969209968386869e+36,\n",
       "  'mesh': 'SCHISM_hgrid',\n",
       "  'data_horizontal_center': 'node',\n",
       "  'data_vertical_center': 'full',\n",
       "  'i23d': 2,\n",
       "  'ivs': 2}}"
      ]
     },
     "execution_count": 39,
     "metadata": {},
     "output_type": "execute_result"
    }
   ],
   "source": [
    "safe_dict = {}\n",
    "for key, value in nc.variables.items():\n",
    "  safe_subdict = {}\n",
    "  for k, v in value.__dict__.items():\n",
    "    if type(v) == np.int32:\n",
    "      v = int(v)\n",
    "    elif type(v) == np.float32:\n",
    "      v = float(v)\n",
    "    safe_subdict[k] = v\n",
    "  safe_dict[key] = safe_subdict\n",
    "safe_dict"
   ]
  },
  {
   "cell_type": "code",
   "execution_count": 5,
   "metadata": {},
   "outputs": [
    {
     "data": {
      "text/plain": [
       "(126942,)"
      ]
     },
     "execution_count": 5,
     "metadata": {},
     "output_type": "execute_result"
    }
   ],
   "source": [
    "nc.variables[\"depth\"].shape"
   ]
  },
  {
   "cell_type": "code",
   "execution_count": 6,
   "metadata": {},
   "outputs": [
    {
     "data": {
      "text/plain": [
       "((126942,), (126942,), (126942,))"
      ]
     },
     "execution_count": 6,
     "metadata": {},
     "output_type": "execute_result"
    }
   ],
   "source": [
    "lng = nc[\"SCHISM_hgrid_node_x\"][:]\n",
    "lat = nc[\"SCHISM_hgrid_node_y\"][:]\n",
    "depth = nc[\"depth\"][:]\n",
    "lng.shape, lat.shape, depth.shape"
   ]
  },
  {
   "cell_type": "code",
   "execution_count": 7,
   "metadata": {},
   "outputs": [
    {
     "data": {
      "text/plain": [
       "(126942, 33)"
      ]
     },
     "execution_count": 7,
     "metadata": {},
     "output_type": "execute_result"
    }
   ],
   "source": [
    "nc[\"temp\"][0, :, :].shape"
   ]
  },
  {
   "cell_type": "code",
   "execution_count": 8,
   "metadata": {},
   "outputs": [
    {
     "data": {
      "text/plain": [
       "<class 'netCDF4._netCDF4.Variable'>\n",
       "float32 temp(time, nSCHISM_hgrid_node, nSCHISM_vgrid_layers)\n",
       "    missing_value: 9.96921e+36\n",
       "    mesh: SCHISM_hgrid\n",
       "    data_horizontal_center: node\n",
       "    data_vertical_center: full\n",
       "    i23d: 2\n",
       "    ivs: 1\n",
       "unlimited dimensions: time\n",
       "current shape = (24, 126942, 33)\n",
       "filling on, default _FillValue of 9.969209968386869e+36 used"
      ]
     },
     "execution_count": 8,
     "metadata": {},
     "output_type": "execute_result"
    }
   ],
   "source": [
    "nc[\"temp\"]"
   ]
  },
  {
   "cell_type": "code",
   "execution_count": 9,
   "metadata": {},
   "outputs": [
    {
     "data": {
      "text/plain": [
       "<class 'netCDF4._netCDF4.Variable'>\n",
       "float64 time(time)\n",
       "    long_name: Time\n",
       "    units: seconds since 1994-02-01 00:00:00 +1200\n",
       "    base_date:  1994  2  1       0.00     -12.00\n",
       "    standard_name: time\n",
       "unlimited dimensions: time\n",
       "current shape = (24,)\n",
       "filling on, default _FillValue of 9.969209968386869e+36 used"
      ]
     },
     "execution_count": 9,
     "metadata": {},
     "output_type": "execute_result"
    }
   ],
   "source": [
    "nc[\"time\"]"
   ]
  },
  {
   "cell_type": "code",
   "execution_count": 10,
   "metadata": {},
   "outputs": [
    {
     "data": {
      "text/plain": [
       "masked_array(data=[1.0, 2.0, 3.0, 4.0, 5.0, 6.0, 7.0, 8.0, 9.0, 10.0,\n",
       "                   11.0, 12.0, 13.0, 14.0, 15.0, 16.0, 17.0, 18.0, 19.0,\n",
       "                   20.0, 21.0, 22.0, 23.0, 24.0],\n",
       "             mask=[False, False, False, False, False, False, False, False,\n",
       "                   False, False, False, False, False, False, False, False,\n",
       "                   False, False, False, False, False, False, False, False],\n",
       "       fill_value=1e+20)"
      ]
     },
     "execution_count": 10,
     "metadata": {},
     "output_type": "execute_result"
    }
   ],
   "source": [
    "nc[\"time\"][:] / 60 / 60"
   ]
  },
  {
   "cell_type": "code",
   "execution_count": 11,
   "metadata": {},
   "outputs": [
    {
     "data": {
      "text/plain": [
       "DatetimeIndex(['1994-02-01 02:00:00+13:00', '1994-02-01 03:00:00+13:00',\n",
       "               '1994-02-01 04:00:00+13:00', '1994-02-01 05:00:00+13:00',\n",
       "               '1994-02-01 06:00:00+13:00', '1994-02-01 07:00:00+13:00',\n",
       "               '1994-02-01 08:00:00+13:00', '1994-02-01 09:00:00+13:00',\n",
       "               '1994-02-01 10:00:00+13:00', '1994-02-01 11:00:00+13:00',\n",
       "               '1994-02-01 12:00:00+13:00', '1994-02-01 13:00:00+13:00',\n",
       "               '1994-02-01 14:00:00+13:00', '1994-02-01 15:00:00+13:00',\n",
       "               '1994-02-01 16:00:00+13:00', '1994-02-01 17:00:00+13:00',\n",
       "               '1994-02-01 18:00:00+13:00', '1994-02-01 19:00:00+13:00',\n",
       "               '1994-02-01 20:00:00+13:00', '1994-02-01 21:00:00+13:00',\n",
       "               '1994-02-01 22:00:00+13:00', '1994-02-01 23:00:00+13:00',\n",
       "               '1994-02-02 00:00:00+13:00', '1994-02-02 01:00:00+13:00'],\n",
       "              dtype='datetime64[ns, Pacific/Auckland]', freq=None)"
      ]
     },
     "execution_count": 11,
     "metadata": {},
     "output_type": "execute_result"
    }
   ],
   "source": [
    "timestamps = pd.to_datetime(netCDF4.num2date(nc[\"time\"], nc[\"time\"].getncattr(\"units\")).astype(str), utc=True).tz_convert(\"Pacific/Auckland\")\n",
    "timestamps"
   ]
  },
  {
   "cell_type": "code",
   "execution_count": 12,
   "metadata": {},
   "outputs": [
    {
     "data": {
      "text/html": [
       "<div>\n",
       "<style scoped>\n",
       "    .dataframe tbody tr th:only-of-type {\n",
       "        vertical-align: middle;\n",
       "    }\n",
       "\n",
       "    .dataframe tbody tr th {\n",
       "        vertical-align: top;\n",
       "    }\n",
       "\n",
       "    .dataframe thead th {\n",
       "        text-align: right;\n",
       "    }\n",
       "</style>\n",
       "<table border=\"1\" class=\"dataframe\">\n",
       "  <thead>\n",
       "    <tr style=\"text-align: right;\">\n",
       "      <th></th>\n",
       "      <th>lat</th>\n",
       "      <th>lng</th>\n",
       "      <th>depth</th>\n",
       "    </tr>\n",
       "  </thead>\n",
       "  <tbody>\n",
       "    <tr>\n",
       "      <th>0</th>\n",
       "      <td>-36.792179</td>\n",
       "      <td>174.591476</td>\n",
       "      <td>-1.813053</td>\n",
       "    </tr>\n",
       "    <tr>\n",
       "      <th>1</th>\n",
       "      <td>-36.791809</td>\n",
       "      <td>174.591491</td>\n",
       "      <td>-1.194785</td>\n",
       "    </tr>\n",
       "    <tr>\n",
       "      <th>2</th>\n",
       "      <td>-36.792417</td>\n",
       "      <td>174.591583</td>\n",
       "      <td>-3.265060</td>\n",
       "    </tr>\n",
       "    <tr>\n",
       "      <th>3</th>\n",
       "      <td>-36.791022</td>\n",
       "      <td>174.591622</td>\n",
       "      <td>-2.264964</td>\n",
       "    </tr>\n",
       "    <tr>\n",
       "      <th>4</th>\n",
       "      <td>-36.791433</td>\n",
       "      <td>174.591738</td>\n",
       "      <td>-1.222115</td>\n",
       "    </tr>\n",
       "    <tr>\n",
       "      <th>...</th>\n",
       "      <td>...</td>\n",
       "      <td>...</td>\n",
       "      <td>...</td>\n",
       "    </tr>\n",
       "    <tr>\n",
       "      <th>126937</th>\n",
       "      <td>-36.479268</td>\n",
       "      <td>176.049355</td>\n",
       "      <td>209.228394</td>\n",
       "    </tr>\n",
       "    <tr>\n",
       "      <th>126938</th>\n",
       "      <td>-36.597837</td>\n",
       "      <td>176.065797</td>\n",
       "      <td>158.283493</td>\n",
       "    </tr>\n",
       "    <tr>\n",
       "      <th>126939</th>\n",
       "      <td>-36.520800</td>\n",
       "      <td>176.070922</td>\n",
       "      <td>204.225693</td>\n",
       "    </tr>\n",
       "    <tr>\n",
       "      <th>126940</th>\n",
       "      <td>-36.552884</td>\n",
       "      <td>176.087601</td>\n",
       "      <td>205.571198</td>\n",
       "    </tr>\n",
       "    <tr>\n",
       "      <th>126941</th>\n",
       "      <td>-36.584965</td>\n",
       "      <td>176.104295</td>\n",
       "      <td>197.031799</td>\n",
       "    </tr>\n",
       "  </tbody>\n",
       "</table>\n",
       "<p>126942 rows × 3 columns</p>\n",
       "</div>"
      ],
      "text/plain": [
       "              lat         lng       depth\n",
       "0      -36.792179  174.591476   -1.813053\n",
       "1      -36.791809  174.591491   -1.194785\n",
       "2      -36.792417  174.591583   -3.265060\n",
       "3      -36.791022  174.591622   -2.264964\n",
       "4      -36.791433  174.591738   -1.222115\n",
       "...           ...         ...         ...\n",
       "126937 -36.479268  176.049355  209.228394\n",
       "126938 -36.597837  176.065797  158.283493\n",
       "126939 -36.520800  176.070922  204.225693\n",
       "126940 -36.552884  176.087601  205.571198\n",
       "126941 -36.584965  176.104295  197.031799\n",
       "\n",
       "[126942 rows x 3 columns]"
      ]
     },
     "execution_count": 12,
     "metadata": {},
     "output_type": "execute_result"
    }
   ],
   "source": [
    "df = pd.DataFrame({\"lat\": lat, \"lng\": lng, \"depth\": depth})\n",
    "df"
   ]
  },
  {
   "cell_type": "code",
   "execution_count": 65,
   "metadata": {},
   "outputs": [
    {
     "data": {
      "text/plain": [
       "(126942, 33)"
      ]
     },
     "execution_count": 65,
     "metadata": {},
     "output_type": "execute_result"
    }
   ],
   "source": [
    "hour = 1\n",
    "values = nc[\"temp\"][hour, :, :]\n",
    "values.shape"
   ]
  },
  {
   "cell_type": "code",
   "execution_count": 66,
   "metadata": {},
   "outputs": [],
   "source": [
    "lng = nc[\"SCHISM_hgrid_node_x\"][:]\n",
    "lat = nc[\"SCHISM_hgrid_node_y\"][:]"
   ]
  },
  {
   "cell_type": "code",
   "execution_count": 67,
   "metadata": {},
   "outputs": [],
   "source": [
    "variable = \"temp\""
   ]
  },
  {
   "cell_type": "code",
   "execution_count": 70,
   "metadata": {},
   "outputs": [
    {
     "data": {
      "text/html": [
       "<div>\n",
       "<style scoped>\n",
       "    .dataframe tbody tr th:only-of-type {\n",
       "        vertical-align: middle;\n",
       "    }\n",
       "\n",
       "    .dataframe tbody tr th {\n",
       "        vertical-align: top;\n",
       "    }\n",
       "\n",
       "    .dataframe thead th {\n",
       "        text-align: right;\n",
       "    }\n",
       "</style>\n",
       "<table border=\"1\" class=\"dataframe\">\n",
       "  <thead>\n",
       "    <tr style=\"text-align: right;\">\n",
       "      <th></th>\n",
       "      <th>lat</th>\n",
       "      <th>lng</th>\n",
       "      <th>temp</th>\n",
       "      <th>depth</th>\n",
       "    </tr>\n",
       "  </thead>\n",
       "  <tbody>\n",
       "    <tr>\n",
       "      <th>74890</th>\n",
       "      <td>-35.662912</td>\n",
       "      <td>175.059429</td>\n",
       "      <td>11.232645</td>\n",
       "      <td>0</td>\n",
       "    </tr>\n",
       "    <tr>\n",
       "      <th>103485</th>\n",
       "      <td>-35.719959</td>\n",
       "      <td>175.380444</td>\n",
       "      <td>11.480674</td>\n",
       "      <td>0</td>\n",
       "    </tr>\n",
       "    <tr>\n",
       "      <th>114386</th>\n",
       "      <td>-35.740046</td>\n",
       "      <td>175.429905</td>\n",
       "      <td>11.455647</td>\n",
       "      <td>0</td>\n",
       "    </tr>\n",
       "    <tr>\n",
       "      <th>120164</th>\n",
       "      <td>-35.757253</td>\n",
       "      <td>175.460866</td>\n",
       "      <td>11.490908</td>\n",
       "      <td>0</td>\n",
       "    </tr>\n",
       "    <tr>\n",
       "      <th>123977</th>\n",
       "      <td>-35.774452</td>\n",
       "      <td>175.491840</td>\n",
       "      <td>11.500798</td>\n",
       "      <td>0</td>\n",
       "    </tr>\n",
       "    <tr>\n",
       "      <th>...</th>\n",
       "      <td>...</td>\n",
       "      <td>...</td>\n",
       "      <td>...</td>\n",
       "      <td>...</td>\n",
       "    </tr>\n",
       "    <tr>\n",
       "      <th>126937</th>\n",
       "      <td>-36.479268</td>\n",
       "      <td>176.049355</td>\n",
       "      <td>19.455965</td>\n",
       "      <td>32</td>\n",
       "    </tr>\n",
       "    <tr>\n",
       "      <th>126938</th>\n",
       "      <td>-36.597837</td>\n",
       "      <td>176.065797</td>\n",
       "      <td>19.440374</td>\n",
       "      <td>32</td>\n",
       "    </tr>\n",
       "    <tr>\n",
       "      <th>126939</th>\n",
       "      <td>-36.520800</td>\n",
       "      <td>176.070922</td>\n",
       "      <td>19.458969</td>\n",
       "      <td>32</td>\n",
       "    </tr>\n",
       "    <tr>\n",
       "      <th>126940</th>\n",
       "      <td>-36.552884</td>\n",
       "      <td>176.087601</td>\n",
       "      <td>19.448130</td>\n",
       "      <td>32</td>\n",
       "    </tr>\n",
       "    <tr>\n",
       "      <th>126941</th>\n",
       "      <td>-36.584965</td>\n",
       "      <td>176.104295</td>\n",
       "      <td>19.449007</td>\n",
       "      <td>32</td>\n",
       "    </tr>\n",
       "  </tbody>\n",
       "</table>\n",
       "<p>802478 rows × 4 columns</p>\n",
       "</div>"
      ],
      "text/plain": [
       "              lat         lng       temp  depth\n",
       "74890  -35.662912  175.059429  11.232645      0\n",
       "103485 -35.719959  175.380444  11.480674      0\n",
       "114386 -35.740046  175.429905  11.455647      0\n",
       "120164 -35.757253  175.460866  11.490908      0\n",
       "123977 -35.774452  175.491840  11.500798      0\n",
       "...           ...         ...        ...    ...\n",
       "126937 -36.479268  176.049355  19.455965     32\n",
       "126938 -36.597837  176.065797  19.440374     32\n",
       "126939 -36.520800  176.070922  19.458969     32\n",
       "126940 -36.552884  176.087601  19.448130     32\n",
       "126941 -36.584965  176.104295  19.449007     32\n",
       "\n",
       "[802478 rows x 4 columns]"
      ]
     },
     "execution_count": 70,
     "metadata": {},
     "output_type": "execute_result"
    }
   ],
   "source": [
    "dfs = []\n",
    "for depth_level in range(values.shape[-1]):\n",
    "    values_at_depth = values[:, depth_level]\n",
    "    df = pd.DataFrame({\"lat\": lat, \"lng\": lng, variable: values_at_depth, \"depth\": depth_level})\n",
    "    dfs.append(df)\n",
    "df = pd.concat(dfs)\n",
    "df.dropna()"
   ]
  }
 ],
 "metadata": {
  "kernelspec": {
   "display_name": "Python 3",
   "language": "python",
   "name": "python3"
  },
  "language_info": {
   "codemirror_mode": {
    "name": "ipython",
    "version": 3
   },
   "file_extension": ".py",
   "mimetype": "text/x-python",
   "name": "python",
   "nbconvert_exporter": "python",
   "pygments_lexer": "ipython3",
   "version": "3.10.12"
  }
 },
 "nbformat": 4,
 "nbformat_minor": 2
}
